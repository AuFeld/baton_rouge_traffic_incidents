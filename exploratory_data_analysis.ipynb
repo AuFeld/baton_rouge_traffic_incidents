{
  "nbformat": 4,
  "nbformat_minor": 0,
  "metadata": {
    "colab": {
      "provenance": []
    },
    "kernelspec": {
      "name": "python3",
      "display_name": "Python 3"
    },
    "language_info": {
      "name": "python"
    },
    "accelerator": "GPU",
    "gpuClass": "premium"
  },
  "cells": [
    {
      "cell_type": "code",
      "execution_count": 1,
      "metadata": {
        "id": "fi9IhwzXs7jx"
      },
      "outputs": [],
      "source": [
        "import pandas as pd\n",
        "import os\n",
        "import matplotlib.pyplot as plt\n",
        "import seaborn as sns\n",
        "import datetime as dt\n",
        "import numpy as np"
      ]
    },
    {
      "cell_type": "markdown",
      "source": [
        "# Data Familiarity\n",
        "* Shape of the dataset\n",
        "* Head\n",
        "* Sum of null values per column\n",
        "* Data Types by Column"
      ],
      "metadata": {
        "id": "H2VVVTEu6Wzl"
      }
    },
    {
      "cell_type": "code",
      "source": [
        "path = '/content/Baton_Rouge_Traffic_Incidents.csv'\n",
        "data = pd.read_csv(path)\n",
        "df = pd.DataFrame(data)\n",
        "print(df.shape)\n",
        "print(df.head)"
      ],
      "metadata": {
        "colab": {
          "base_uri": "https://localhost:8080/"
        },
        "id": "B9hp5ICxtapi",
        "outputId": "3be42f4d-a2c5-4e58-ffcb-30e7be76430e"
      },
      "execution_count": 2,
      "outputs": [
        {
          "output_type": "stream",
          "name": "stdout",
          "text": [
            "(20932, 33)\n",
            "<bound method NDFrame.head of       INCIDENT NUMBER              CRASH DATE             STREET ADDRESS  \\\n",
            "0           21-032102  04/06/2021 08:17:37 PM                        NaN   \n",
            "1           21-076335  08/03/2021 09:15:00 AM                PARKING LOT   \n",
            "2           21-117821  11/17/2021 10:44:56 AM                        I10   \n",
            "3           21-125298  12/07/2021 05:43:15 PM                 15770 EI10   \n",
            "4           21-113645  11/06/2021 07:08:23 AM                 NO ROADWAY   \n",
            "...               ...                     ...                        ...   \n",
            "20927       21-035208  04/15/2021 06:40:21 AM                  403 W I12   \n",
            "20928       21-017794  02/25/2021 12:22:32 PM           3260 HIGHLAND RD   \n",
            "20929       21-046501  05/15/2021 02:09:16 PM  11220 N HARRELLS FERRY RD   \n",
            "20930       22-048756  05/18/2022 09:45:40 PM              1100 W LEE DR   \n",
            "20931       21-048625  05/21/2021 01:18:57 PM              2248 PLANK RD   \n",
            "\n",
            "              CITY STATE  ZIP CODE  DISTRICT ZONE SUBZONE  TOTAL VEHICLES  \\\n",
            "0      BATON ROUGE   NaN       NaN       2.0   2E     2E1               1   \n",
            "1              NaN   NaN       NaN       2.0   2C     2C1               2   \n",
            "2      BATON ROUGE    LA   70808.0       2.0   2B     2B1               2   \n",
            "3      BATON ROUGE    LA   70808.0       2.0   2B     2B1               3   \n",
            "4      BATON ROUGE   NaN       NaN       NaN  NaN     NaN               1   \n",
            "...            ...   ...       ...       ...  ...     ...             ...   \n",
            "20927          NaN    LA   70816.0       3.0   3E     2B1               1   \n",
            "20928  BATON ROUGE    LA   70802.0       2.0   2C     2C1               2   \n",
            "20929  BATON ROUGE    LA   70816.0       3.0   3E     3E2               1   \n",
            "20930  BATON ROUGE    LA   70820.0       2.0   2C     2C3               2   \n",
            "20931  BATON ROUGE    LA   70802.0       1.0   1B     1B2               3   \n",
            "\n",
            "       ...    PRIMARY FACTOR         SECONDARY FACTOR  WEATHER  \\\n",
            "0      ...               NaN                      NaN      NaN   \n",
            "1      ...        VIOLATIONS                      NaN   CLOUDY   \n",
            "2      ...        VIOLATIONS                      NaN    CLEAR   \n",
            "3      ...        VIOLATIONS                      NaN   CLOUDY   \n",
            "4      ...  KIND OF LOCATION                      NaN    CLEAR   \n",
            "...    ...               ...                      ...      ...   \n",
            "20927  ...        VIOLATIONS      CONDITION OF DRIVER     RAIN   \n",
            "20928  ...        VIOLATIONS  MOVEMENT PRIOR TO CRASH    CLEAR   \n",
            "20929  ...        VIOLATIONS                      NaN    CLEAR   \n",
            "20930  ...        VIOLATIONS  MOVEMENT PRIOR TO CRASH    CLEAR   \n",
            "20931  ...        VIOLATIONS                      NaN   CLOUDY   \n",
            "\n",
            "                     LOCATION TYPE  ROADWAY RELATION  \\\n",
            "0                              NaN               NaN   \n",
            "1                            OTHER             OTHER   \n",
            "2                            OTHER        ON ROADWAY   \n",
            "3                     OPEN COUNTRY             OTHER   \n",
            "4                            OTHER             OTHER   \n",
            "...                            ...               ...   \n",
            "20927  BUSINESS, MIXED RESIDENTIAL        ON ROADWAY   \n",
            "20928          BUSINESS CONTINUOUS        ON ROADWAY   \n",
            "20929          BUSINESS CONTINUOUS        ON ROADWAY   \n",
            "20930  BUSINESS, MIXED RESIDENTIAL        ON ROADWAY   \n",
            "20931  BUSINESS, MIXED RESIDENTIAL        ON ROADWAY   \n",
            "\n",
            "                                 ACCESS CONTROL  \\\n",
            "0                                           NaN   \n",
            "1      NO CONTROL (UNLIMITED ACCESS TO ROADWAY)   \n",
            "2      NO CONTROL (UNLIMITED ACCESS TO ROADWAY)   \n",
            "3      NO CONTROL (UNLIMITED ACCESS TO ROADWAY)   \n",
            "4                                         OTHER   \n",
            "...                                         ...   \n",
            "20927  FULL CONTROL (ONLY RAMP ENTRANCE & EXIT)   \n",
            "20928  NO CONTROL (UNLIMITED ACCESS TO ROADWAY)   \n",
            "20929  NO CONTROL (UNLIMITED ACCESS TO ROADWAY)   \n",
            "20930  NO CONTROL (UNLIMITED ACCESS TO ROADWAY)   \n",
            "20931  NO CONTROL (UNLIMITED ACCESS TO ROADWAY)   \n",
            "\n",
            "                             LIGHTING LONGITUDE  LATITUDE  \\\n",
            "0                                 NaN       NaN       NaN   \n",
            "1                            DAYLIGHT       NaN       NaN   \n",
            "2                            DAYLIGHT       NaN       NaN   \n",
            "3      DARK - CONTINUOUS STREET LIGHT       NaN       NaN   \n",
            "4                                DUSK       NaN       NaN   \n",
            "...                               ...       ...       ...   \n",
            "20927  DARK - CONTINUOUS STREET LIGHT -91.15194  30.44726   \n",
            "20928                        DAYLIGHT -91.17705  30.41866   \n",
            "20929                        DAYLIGHT -91.05911  30.43234   \n",
            "20930  DARK - CONTINUOUS STREET LIGHT -91.17175  30.38828   \n",
            "20931                        DAYLIGHT -91.16390  30.46827   \n",
            "\n",
            "                                         GEOLOCATION  \n",
            "0                                                NaN  \n",
            "1                                                NaN  \n",
            "2                                                NaN  \n",
            "3                                                NaN  \n",
            "4                                                NaN  \n",
            "...                                              ...  \n",
            "20927  POINT (-91.15194497945643 30.447262763121213)  \n",
            "20928  POINT (-91.17704810568759 30.418663468681483)  \n",
            "20929     POINT (-91.05911381259814 30.432344372799)  \n",
            "20930   POINT (-91.17174741682993 30.38828101121265)  \n",
            "20931   POINT (-91.16389926091466 30.46827209663569)  \n",
            "\n",
            "[20932 rows x 33 columns]>\n"
          ]
        }
      ]
    },
    {
      "cell_type": "code",
      "source": [
        "df"
      ],
      "metadata": {
        "colab": {
          "base_uri": "https://localhost:8080/",
          "height": 1000
        },
        "id": "vZAUi9pZ6uWB",
        "outputId": "0c13916c-a0f6-42d6-def1-e7b45969b0bf"
      },
      "execution_count": 3,
      "outputs": [
        {
          "output_type": "execute_result",
          "data": {
            "text/plain": [
              "      INCIDENT NUMBER              CRASH DATE             STREET ADDRESS  \\\n",
              "0           21-032102  04/06/2021 08:17:37 PM                        NaN   \n",
              "1           21-076335  08/03/2021 09:15:00 AM                PARKING LOT   \n",
              "2           21-117821  11/17/2021 10:44:56 AM                        I10   \n",
              "3           21-125298  12/07/2021 05:43:15 PM                 15770 EI10   \n",
              "4           21-113645  11/06/2021 07:08:23 AM                 NO ROADWAY   \n",
              "...               ...                     ...                        ...   \n",
              "20927       21-035208  04/15/2021 06:40:21 AM                  403 W I12   \n",
              "20928       21-017794  02/25/2021 12:22:32 PM           3260 HIGHLAND RD   \n",
              "20929       21-046501  05/15/2021 02:09:16 PM  11220 N HARRELLS FERRY RD   \n",
              "20930       22-048756  05/18/2022 09:45:40 PM              1100 W LEE DR   \n",
              "20931       21-048625  05/21/2021 01:18:57 PM              2248 PLANK RD   \n",
              "\n",
              "              CITY STATE  ZIP CODE  DISTRICT ZONE SUBZONE  TOTAL VEHICLES  \\\n",
              "0      BATON ROUGE   NaN       NaN       2.0   2E     2E1               1   \n",
              "1              NaN   NaN       NaN       2.0   2C     2C1               2   \n",
              "2      BATON ROUGE    LA   70808.0       2.0   2B     2B1               2   \n",
              "3      BATON ROUGE    LA   70808.0       2.0   2B     2B1               3   \n",
              "4      BATON ROUGE   NaN       NaN       NaN  NaN     NaN               1   \n",
              "...            ...   ...       ...       ...  ...     ...             ...   \n",
              "20927          NaN    LA   70816.0       3.0   3E     2B1               1   \n",
              "20928  BATON ROUGE    LA   70802.0       2.0   2C     2C1               2   \n",
              "20929  BATON ROUGE    LA   70816.0       3.0   3E     3E2               1   \n",
              "20930  BATON ROUGE    LA   70820.0       2.0   2C     2C3               2   \n",
              "20931  BATON ROUGE    LA   70802.0       1.0   1B     1B2               3   \n",
              "\n",
              "       ...    PRIMARY FACTOR         SECONDARY FACTOR  WEATHER  \\\n",
              "0      ...               NaN                      NaN      NaN   \n",
              "1      ...        VIOLATIONS                      NaN   CLOUDY   \n",
              "2      ...        VIOLATIONS                      NaN    CLEAR   \n",
              "3      ...        VIOLATIONS                      NaN   CLOUDY   \n",
              "4      ...  KIND OF LOCATION                      NaN    CLEAR   \n",
              "...    ...               ...                      ...      ...   \n",
              "20927  ...        VIOLATIONS      CONDITION OF DRIVER     RAIN   \n",
              "20928  ...        VIOLATIONS  MOVEMENT PRIOR TO CRASH    CLEAR   \n",
              "20929  ...        VIOLATIONS                      NaN    CLEAR   \n",
              "20930  ...        VIOLATIONS  MOVEMENT PRIOR TO CRASH    CLEAR   \n",
              "20931  ...        VIOLATIONS                      NaN   CLOUDY   \n",
              "\n",
              "                     LOCATION TYPE  ROADWAY RELATION  \\\n",
              "0                              NaN               NaN   \n",
              "1                            OTHER             OTHER   \n",
              "2                            OTHER        ON ROADWAY   \n",
              "3                     OPEN COUNTRY             OTHER   \n",
              "4                            OTHER             OTHER   \n",
              "...                            ...               ...   \n",
              "20927  BUSINESS, MIXED RESIDENTIAL        ON ROADWAY   \n",
              "20928          BUSINESS CONTINUOUS        ON ROADWAY   \n",
              "20929          BUSINESS CONTINUOUS        ON ROADWAY   \n",
              "20930  BUSINESS, MIXED RESIDENTIAL        ON ROADWAY   \n",
              "20931  BUSINESS, MIXED RESIDENTIAL        ON ROADWAY   \n",
              "\n",
              "                                 ACCESS CONTROL  \\\n",
              "0                                           NaN   \n",
              "1      NO CONTROL (UNLIMITED ACCESS TO ROADWAY)   \n",
              "2      NO CONTROL (UNLIMITED ACCESS TO ROADWAY)   \n",
              "3      NO CONTROL (UNLIMITED ACCESS TO ROADWAY)   \n",
              "4                                         OTHER   \n",
              "...                                         ...   \n",
              "20927  FULL CONTROL (ONLY RAMP ENTRANCE & EXIT)   \n",
              "20928  NO CONTROL (UNLIMITED ACCESS TO ROADWAY)   \n",
              "20929  NO CONTROL (UNLIMITED ACCESS TO ROADWAY)   \n",
              "20930  NO CONTROL (UNLIMITED ACCESS TO ROADWAY)   \n",
              "20931  NO CONTROL (UNLIMITED ACCESS TO ROADWAY)   \n",
              "\n",
              "                             LIGHTING LONGITUDE  LATITUDE  \\\n",
              "0                                 NaN       NaN       NaN   \n",
              "1                            DAYLIGHT       NaN       NaN   \n",
              "2                            DAYLIGHT       NaN       NaN   \n",
              "3      DARK - CONTINUOUS STREET LIGHT       NaN       NaN   \n",
              "4                                DUSK       NaN       NaN   \n",
              "...                               ...       ...       ...   \n",
              "20927  DARK - CONTINUOUS STREET LIGHT -91.15194  30.44726   \n",
              "20928                        DAYLIGHT -91.17705  30.41866   \n",
              "20929                        DAYLIGHT -91.05911  30.43234   \n",
              "20930  DARK - CONTINUOUS STREET LIGHT -91.17175  30.38828   \n",
              "20931                        DAYLIGHT -91.16390  30.46827   \n",
              "\n",
              "                                         GEOLOCATION  \n",
              "0                                                NaN  \n",
              "1                                                NaN  \n",
              "2                                                NaN  \n",
              "3                                                NaN  \n",
              "4                                                NaN  \n",
              "...                                              ...  \n",
              "20927  POINT (-91.15194497945643 30.447262763121213)  \n",
              "20928  POINT (-91.17704810568759 30.418663468681483)  \n",
              "20929     POINT (-91.05911381259814 30.432344372799)  \n",
              "20930   POINT (-91.17174741682993 30.38828101121265)  \n",
              "20931   POINT (-91.16389926091466 30.46827209663569)  \n",
              "\n",
              "[20932 rows x 33 columns]"
            ],
            "text/html": [
              "\n",
              "  <div id=\"df-7bd8f344-0dac-4e4e-bd77-c53039defb16\">\n",
              "    <div class=\"colab-df-container\">\n",
              "      <div>\n",
              "<style scoped>\n",
              "    .dataframe tbody tr th:only-of-type {\n",
              "        vertical-align: middle;\n",
              "    }\n",
              "\n",
              "    .dataframe tbody tr th {\n",
              "        vertical-align: top;\n",
              "    }\n",
              "\n",
              "    .dataframe thead th {\n",
              "        text-align: right;\n",
              "    }\n",
              "</style>\n",
              "<table border=\"1\" class=\"dataframe\">\n",
              "  <thead>\n",
              "    <tr style=\"text-align: right;\">\n",
              "      <th></th>\n",
              "      <th>INCIDENT NUMBER</th>\n",
              "      <th>CRASH DATE</th>\n",
              "      <th>STREET ADDRESS</th>\n",
              "      <th>CITY</th>\n",
              "      <th>STATE</th>\n",
              "      <th>ZIP CODE</th>\n",
              "      <th>DISTRICT</th>\n",
              "      <th>ZONE</th>\n",
              "      <th>SUBZONE</th>\n",
              "      <th>TOTAL VEHICLES</th>\n",
              "      <th>...</th>\n",
              "      <th>PRIMARY FACTOR</th>\n",
              "      <th>SECONDARY FACTOR</th>\n",
              "      <th>WEATHER</th>\n",
              "      <th>LOCATION TYPE</th>\n",
              "      <th>ROADWAY RELATION</th>\n",
              "      <th>ACCESS CONTROL</th>\n",
              "      <th>LIGHTING</th>\n",
              "      <th>LONGITUDE</th>\n",
              "      <th>LATITUDE</th>\n",
              "      <th>GEOLOCATION</th>\n",
              "    </tr>\n",
              "  </thead>\n",
              "  <tbody>\n",
              "    <tr>\n",
              "      <th>0</th>\n",
              "      <td>21-032102</td>\n",
              "      <td>04/06/2021 08:17:37 PM</td>\n",
              "      <td>NaN</td>\n",
              "      <td>BATON ROUGE</td>\n",
              "      <td>NaN</td>\n",
              "      <td>NaN</td>\n",
              "      <td>2.0</td>\n",
              "      <td>2E</td>\n",
              "      <td>2E1</td>\n",
              "      <td>1</td>\n",
              "      <td>...</td>\n",
              "      <td>NaN</td>\n",
              "      <td>NaN</td>\n",
              "      <td>NaN</td>\n",
              "      <td>NaN</td>\n",
              "      <td>NaN</td>\n",
              "      <td>NaN</td>\n",
              "      <td>NaN</td>\n",
              "      <td>NaN</td>\n",
              "      <td>NaN</td>\n",
              "      <td>NaN</td>\n",
              "    </tr>\n",
              "    <tr>\n",
              "      <th>1</th>\n",
              "      <td>21-076335</td>\n",
              "      <td>08/03/2021 09:15:00 AM</td>\n",
              "      <td>PARKING LOT</td>\n",
              "      <td>NaN</td>\n",
              "      <td>NaN</td>\n",
              "      <td>NaN</td>\n",
              "      <td>2.0</td>\n",
              "      <td>2C</td>\n",
              "      <td>2C1</td>\n",
              "      <td>2</td>\n",
              "      <td>...</td>\n",
              "      <td>VIOLATIONS</td>\n",
              "      <td>NaN</td>\n",
              "      <td>CLOUDY</td>\n",
              "      <td>OTHER</td>\n",
              "      <td>OTHER</td>\n",
              "      <td>NO CONTROL (UNLIMITED ACCESS TO ROADWAY)</td>\n",
              "      <td>DAYLIGHT</td>\n",
              "      <td>NaN</td>\n",
              "      <td>NaN</td>\n",
              "      <td>NaN</td>\n",
              "    </tr>\n",
              "    <tr>\n",
              "      <th>2</th>\n",
              "      <td>21-117821</td>\n",
              "      <td>11/17/2021 10:44:56 AM</td>\n",
              "      <td>I10</td>\n",
              "      <td>BATON ROUGE</td>\n",
              "      <td>LA</td>\n",
              "      <td>70808.0</td>\n",
              "      <td>2.0</td>\n",
              "      <td>2B</td>\n",
              "      <td>2B1</td>\n",
              "      <td>2</td>\n",
              "      <td>...</td>\n",
              "      <td>VIOLATIONS</td>\n",
              "      <td>NaN</td>\n",
              "      <td>CLEAR</td>\n",
              "      <td>OTHER</td>\n",
              "      <td>ON ROADWAY</td>\n",
              "      <td>NO CONTROL (UNLIMITED ACCESS TO ROADWAY)</td>\n",
              "      <td>DAYLIGHT</td>\n",
              "      <td>NaN</td>\n",
              "      <td>NaN</td>\n",
              "      <td>NaN</td>\n",
              "    </tr>\n",
              "    <tr>\n",
              "      <th>3</th>\n",
              "      <td>21-125298</td>\n",
              "      <td>12/07/2021 05:43:15 PM</td>\n",
              "      <td>15770 EI10</td>\n",
              "      <td>BATON ROUGE</td>\n",
              "      <td>LA</td>\n",
              "      <td>70808.0</td>\n",
              "      <td>2.0</td>\n",
              "      <td>2B</td>\n",
              "      <td>2B1</td>\n",
              "      <td>3</td>\n",
              "      <td>...</td>\n",
              "      <td>VIOLATIONS</td>\n",
              "      <td>NaN</td>\n",
              "      <td>CLOUDY</td>\n",
              "      <td>OPEN COUNTRY</td>\n",
              "      <td>OTHER</td>\n",
              "      <td>NO CONTROL (UNLIMITED ACCESS TO ROADWAY)</td>\n",
              "      <td>DARK - CONTINUOUS STREET LIGHT</td>\n",
              "      <td>NaN</td>\n",
              "      <td>NaN</td>\n",
              "      <td>NaN</td>\n",
              "    </tr>\n",
              "    <tr>\n",
              "      <th>4</th>\n",
              "      <td>21-113645</td>\n",
              "      <td>11/06/2021 07:08:23 AM</td>\n",
              "      <td>NO ROADWAY</td>\n",
              "      <td>BATON ROUGE</td>\n",
              "      <td>NaN</td>\n",
              "      <td>NaN</td>\n",
              "      <td>NaN</td>\n",
              "      <td>NaN</td>\n",
              "      <td>NaN</td>\n",
              "      <td>1</td>\n",
              "      <td>...</td>\n",
              "      <td>KIND OF LOCATION</td>\n",
              "      <td>NaN</td>\n",
              "      <td>CLEAR</td>\n",
              "      <td>OTHER</td>\n",
              "      <td>OTHER</td>\n",
              "      <td>OTHER</td>\n",
              "      <td>DUSK</td>\n",
              "      <td>NaN</td>\n",
              "      <td>NaN</td>\n",
              "      <td>NaN</td>\n",
              "    </tr>\n",
              "    <tr>\n",
              "      <th>...</th>\n",
              "      <td>...</td>\n",
              "      <td>...</td>\n",
              "      <td>...</td>\n",
              "      <td>...</td>\n",
              "      <td>...</td>\n",
              "      <td>...</td>\n",
              "      <td>...</td>\n",
              "      <td>...</td>\n",
              "      <td>...</td>\n",
              "      <td>...</td>\n",
              "      <td>...</td>\n",
              "      <td>...</td>\n",
              "      <td>...</td>\n",
              "      <td>...</td>\n",
              "      <td>...</td>\n",
              "      <td>...</td>\n",
              "      <td>...</td>\n",
              "      <td>...</td>\n",
              "      <td>...</td>\n",
              "      <td>...</td>\n",
              "      <td>...</td>\n",
              "    </tr>\n",
              "    <tr>\n",
              "      <th>20927</th>\n",
              "      <td>21-035208</td>\n",
              "      <td>04/15/2021 06:40:21 AM</td>\n",
              "      <td>403 W I12</td>\n",
              "      <td>NaN</td>\n",
              "      <td>LA</td>\n",
              "      <td>70816.0</td>\n",
              "      <td>3.0</td>\n",
              "      <td>3E</td>\n",
              "      <td>2B1</td>\n",
              "      <td>1</td>\n",
              "      <td>...</td>\n",
              "      <td>VIOLATIONS</td>\n",
              "      <td>CONDITION OF DRIVER</td>\n",
              "      <td>RAIN</td>\n",
              "      <td>BUSINESS, MIXED RESIDENTIAL</td>\n",
              "      <td>ON ROADWAY</td>\n",
              "      <td>FULL CONTROL (ONLY RAMP ENTRANCE &amp; EXIT)</td>\n",
              "      <td>DARK - CONTINUOUS STREET LIGHT</td>\n",
              "      <td>-91.15194</td>\n",
              "      <td>30.44726</td>\n",
              "      <td>POINT (-91.15194497945643 30.447262763121213)</td>\n",
              "    </tr>\n",
              "    <tr>\n",
              "      <th>20928</th>\n",
              "      <td>21-017794</td>\n",
              "      <td>02/25/2021 12:22:32 PM</td>\n",
              "      <td>3260 HIGHLAND RD</td>\n",
              "      <td>BATON ROUGE</td>\n",
              "      <td>LA</td>\n",
              "      <td>70802.0</td>\n",
              "      <td>2.0</td>\n",
              "      <td>2C</td>\n",
              "      <td>2C1</td>\n",
              "      <td>2</td>\n",
              "      <td>...</td>\n",
              "      <td>VIOLATIONS</td>\n",
              "      <td>MOVEMENT PRIOR TO CRASH</td>\n",
              "      <td>CLEAR</td>\n",
              "      <td>BUSINESS CONTINUOUS</td>\n",
              "      <td>ON ROADWAY</td>\n",
              "      <td>NO CONTROL (UNLIMITED ACCESS TO ROADWAY)</td>\n",
              "      <td>DAYLIGHT</td>\n",
              "      <td>-91.17705</td>\n",
              "      <td>30.41866</td>\n",
              "      <td>POINT (-91.17704810568759 30.418663468681483)</td>\n",
              "    </tr>\n",
              "    <tr>\n",
              "      <th>20929</th>\n",
              "      <td>21-046501</td>\n",
              "      <td>05/15/2021 02:09:16 PM</td>\n",
              "      <td>11220 N HARRELLS FERRY RD</td>\n",
              "      <td>BATON ROUGE</td>\n",
              "      <td>LA</td>\n",
              "      <td>70816.0</td>\n",
              "      <td>3.0</td>\n",
              "      <td>3E</td>\n",
              "      <td>3E2</td>\n",
              "      <td>1</td>\n",
              "      <td>...</td>\n",
              "      <td>VIOLATIONS</td>\n",
              "      <td>NaN</td>\n",
              "      <td>CLEAR</td>\n",
              "      <td>BUSINESS CONTINUOUS</td>\n",
              "      <td>ON ROADWAY</td>\n",
              "      <td>NO CONTROL (UNLIMITED ACCESS TO ROADWAY)</td>\n",
              "      <td>DAYLIGHT</td>\n",
              "      <td>-91.05911</td>\n",
              "      <td>30.43234</td>\n",
              "      <td>POINT (-91.05911381259814 30.432344372799)</td>\n",
              "    </tr>\n",
              "    <tr>\n",
              "      <th>20930</th>\n",
              "      <td>22-048756</td>\n",
              "      <td>05/18/2022 09:45:40 PM</td>\n",
              "      <td>1100 W LEE DR</td>\n",
              "      <td>BATON ROUGE</td>\n",
              "      <td>LA</td>\n",
              "      <td>70820.0</td>\n",
              "      <td>2.0</td>\n",
              "      <td>2C</td>\n",
              "      <td>2C3</td>\n",
              "      <td>2</td>\n",
              "      <td>...</td>\n",
              "      <td>VIOLATIONS</td>\n",
              "      <td>MOVEMENT PRIOR TO CRASH</td>\n",
              "      <td>CLEAR</td>\n",
              "      <td>BUSINESS, MIXED RESIDENTIAL</td>\n",
              "      <td>ON ROADWAY</td>\n",
              "      <td>NO CONTROL (UNLIMITED ACCESS TO ROADWAY)</td>\n",
              "      <td>DARK - CONTINUOUS STREET LIGHT</td>\n",
              "      <td>-91.17175</td>\n",
              "      <td>30.38828</td>\n",
              "      <td>POINT (-91.17174741682993 30.38828101121265)</td>\n",
              "    </tr>\n",
              "    <tr>\n",
              "      <th>20931</th>\n",
              "      <td>21-048625</td>\n",
              "      <td>05/21/2021 01:18:57 PM</td>\n",
              "      <td>2248 PLANK RD</td>\n",
              "      <td>BATON ROUGE</td>\n",
              "      <td>LA</td>\n",
              "      <td>70802.0</td>\n",
              "      <td>1.0</td>\n",
              "      <td>1B</td>\n",
              "      <td>1B2</td>\n",
              "      <td>3</td>\n",
              "      <td>...</td>\n",
              "      <td>VIOLATIONS</td>\n",
              "      <td>NaN</td>\n",
              "      <td>CLOUDY</td>\n",
              "      <td>BUSINESS, MIXED RESIDENTIAL</td>\n",
              "      <td>ON ROADWAY</td>\n",
              "      <td>NO CONTROL (UNLIMITED ACCESS TO ROADWAY)</td>\n",
              "      <td>DAYLIGHT</td>\n",
              "      <td>-91.16390</td>\n",
              "      <td>30.46827</td>\n",
              "      <td>POINT (-91.16389926091466 30.46827209663569)</td>\n",
              "    </tr>\n",
              "  </tbody>\n",
              "</table>\n",
              "<p>20932 rows × 33 columns</p>\n",
              "</div>\n",
              "      <button class=\"colab-df-convert\" onclick=\"convertToInteractive('df-7bd8f344-0dac-4e4e-bd77-c53039defb16')\"\n",
              "              title=\"Convert this dataframe to an interactive table.\"\n",
              "              style=\"display:none;\">\n",
              "        \n",
              "  <svg xmlns=\"http://www.w3.org/2000/svg\" height=\"24px\"viewBox=\"0 0 24 24\"\n",
              "       width=\"24px\">\n",
              "    <path d=\"M0 0h24v24H0V0z\" fill=\"none\"/>\n",
              "    <path d=\"M18.56 5.44l.94 2.06.94-2.06 2.06-.94-2.06-.94-.94-2.06-.94 2.06-2.06.94zm-11 1L8.5 8.5l.94-2.06 2.06-.94-2.06-.94L8.5 2.5l-.94 2.06-2.06.94zm10 10l.94 2.06.94-2.06 2.06-.94-2.06-.94-.94-2.06-.94 2.06-2.06.94z\"/><path d=\"M17.41 7.96l-1.37-1.37c-.4-.4-.92-.59-1.43-.59-.52 0-1.04.2-1.43.59L10.3 9.45l-7.72 7.72c-.78.78-.78 2.05 0 2.83L4 21.41c.39.39.9.59 1.41.59.51 0 1.02-.2 1.41-.59l7.78-7.78 2.81-2.81c.8-.78.8-2.07 0-2.86zM5.41 20L4 18.59l7.72-7.72 1.47 1.35L5.41 20z\"/>\n",
              "  </svg>\n",
              "      </button>\n",
              "      \n",
              "  <style>\n",
              "    .colab-df-container {\n",
              "      display:flex;\n",
              "      flex-wrap:wrap;\n",
              "      gap: 12px;\n",
              "    }\n",
              "\n",
              "    .colab-df-convert {\n",
              "      background-color: #E8F0FE;\n",
              "      border: none;\n",
              "      border-radius: 50%;\n",
              "      cursor: pointer;\n",
              "      display: none;\n",
              "      fill: #1967D2;\n",
              "      height: 32px;\n",
              "      padding: 0 0 0 0;\n",
              "      width: 32px;\n",
              "    }\n",
              "\n",
              "    .colab-df-convert:hover {\n",
              "      background-color: #E2EBFA;\n",
              "      box-shadow: 0px 1px 2px rgba(60, 64, 67, 0.3), 0px 1px 3px 1px rgba(60, 64, 67, 0.15);\n",
              "      fill: #174EA6;\n",
              "    }\n",
              "\n",
              "    [theme=dark] .colab-df-convert {\n",
              "      background-color: #3B4455;\n",
              "      fill: #D2E3FC;\n",
              "    }\n",
              "\n",
              "    [theme=dark] .colab-df-convert:hover {\n",
              "      background-color: #434B5C;\n",
              "      box-shadow: 0px 1px 3px 1px rgba(0, 0, 0, 0.15);\n",
              "      filter: drop-shadow(0px 1px 2px rgba(0, 0, 0, 0.3));\n",
              "      fill: #FFFFFF;\n",
              "    }\n",
              "  </style>\n",
              "\n",
              "      <script>\n",
              "        const buttonEl =\n",
              "          document.querySelector('#df-7bd8f344-0dac-4e4e-bd77-c53039defb16 button.colab-df-convert');\n",
              "        buttonEl.style.display =\n",
              "          google.colab.kernel.accessAllowed ? 'block' : 'none';\n",
              "\n",
              "        async function convertToInteractive(key) {\n",
              "          const element = document.querySelector('#df-7bd8f344-0dac-4e4e-bd77-c53039defb16');\n",
              "          const dataTable =\n",
              "            await google.colab.kernel.invokeFunction('convertToInteractive',\n",
              "                                                     [key], {});\n",
              "          if (!dataTable) return;\n",
              "\n",
              "          const docLinkHtml = 'Like what you see? Visit the ' +\n",
              "            '<a target=\"_blank\" href=https://colab.research.google.com/notebooks/data_table.ipynb>data table notebook</a>'\n",
              "            + ' to learn more about interactive tables.';\n",
              "          element.innerHTML = '';\n",
              "          dataTable['output_type'] = 'display_data';\n",
              "          await google.colab.output.renderOutput(dataTable, element);\n",
              "          const docLink = document.createElement('div');\n",
              "          docLink.innerHTML = docLinkHtml;\n",
              "          element.appendChild(docLink);\n",
              "        }\n",
              "      </script>\n",
              "    </div>\n",
              "  </div>\n",
              "  "
            ]
          },
          "metadata": {},
          "execution_count": 3
        }
      ]
    },
    {
      "cell_type": "code",
      "source": [
        "# number of null values by column\n",
        "\n",
        "df.isnull().sum()"
      ],
      "metadata": {
        "colab": {
          "base_uri": "https://localhost:8080/"
        },
        "id": "Fc5Y5mAftayO",
        "outputId": "b9fd2d7a-fbde-4d67-c463-831ea1873770"
      },
      "execution_count": 4,
      "outputs": [
        {
          "output_type": "execute_result",
          "data": {
            "text/plain": [
              "INCIDENT NUMBER            0\n",
              "CRASH DATE                 0\n",
              "STREET ADDRESS             4\n",
              "CITY                    2148\n",
              "STATE                   1888\n",
              "ZIP CODE                1888\n",
              "DISTRICT                 338\n",
              "ZONE                     338\n",
              "SUBZONE                 1548\n",
              "TOTAL VEHICLES             0\n",
              "ROAD CLASS                 8\n",
              "HIT AND RUN                0\n",
              "TRAIN                      0\n",
              "FATALITY                   0\n",
              "INJURY                     0\n",
              "PEDESTRIAN                 0\n",
              "INTERSECTION               0\n",
              "NEAREST STREET           187\n",
              "MANNER OF COLLISION       51\n",
              "ROADWAY SURFACE            4\n",
              "ROADWAY CONDITION          4\n",
              "ROADWAY DESIGN            19\n",
              "ALIGNMENT                  6\n",
              "PRIMARY FACTOR             5\n",
              "SECONDARY FACTOR       10907\n",
              "WEATHER                    3\n",
              "LOCATION TYPE             10\n",
              "ROADWAY RELATION          25\n",
              "ACCESS CONTROL             8\n",
              "LIGHTING                   7\n",
              "LONGITUDE                881\n",
              "LATITUDE                 881\n",
              "GEOLOCATION              881\n",
              "dtype: int64"
            ]
          },
          "metadata": {},
          "execution_count": 4
        }
      ]
    },
    {
      "cell_type": "code",
      "source": [
        "# data type of each column\n",
        "\n",
        "print(df.dtypes)"
      ],
      "metadata": {
        "colab": {
          "base_uri": "https://localhost:8080/"
        },
        "id": "kSw-sj-Cta05",
        "outputId": "01e9b055-062a-4b8f-a673-8070f6c7da52"
      },
      "execution_count": 5,
      "outputs": [
        {
          "output_type": "stream",
          "name": "stdout",
          "text": [
            "INCIDENT NUMBER         object\n",
            "CRASH DATE              object\n",
            "STREET ADDRESS          object\n",
            "CITY                    object\n",
            "STATE                   object\n",
            "ZIP CODE               float64\n",
            "DISTRICT               float64\n",
            "ZONE                    object\n",
            "SUBZONE                 object\n",
            "TOTAL VEHICLES           int64\n",
            "ROAD CLASS              object\n",
            "HIT AND RUN               bool\n",
            "TRAIN                     bool\n",
            "FATALITY                  bool\n",
            "INJURY                    bool\n",
            "PEDESTRIAN                bool\n",
            "INTERSECTION              bool\n",
            "NEAREST STREET          object\n",
            "MANNER OF COLLISION     object\n",
            "ROADWAY SURFACE         object\n",
            "ROADWAY CONDITION       object\n",
            "ROADWAY DESIGN          object\n",
            "ALIGNMENT               object\n",
            "PRIMARY FACTOR          object\n",
            "SECONDARY FACTOR        object\n",
            "WEATHER                 object\n",
            "LOCATION TYPE           object\n",
            "ROADWAY RELATION        object\n",
            "ACCESS CONTROL          object\n",
            "LIGHTING                object\n",
            "LONGITUDE              float64\n",
            "LATITUDE               float64\n",
            "GEOLOCATION             object\n",
            "dtype: object\n"
          ]
        }
      ]
    },
    {
      "cell_type": "markdown",
      "source": [
        "# Data Cleaning\n",
        "* Identify and remove columns that are missing 10% of its data (or more)\n",
        "* Remove city and state colums as all car accidents took place in Baton Rouge, LA"
      ],
      "metadata": {
        "id": "V77QFkLA2C1u"
      }
    },
    {
      "cell_type": "code",
      "source": [
        "# identify columns with missing values above 10%\n",
        "\n",
        "missing_df = df.isnull().sum().sort_values(ascending=False)\n",
        "missing_df = missing_df[missing_df > 0]\n",
        "missing_df = missing_df / df.shape[0]\n",
        "missing_df = missing_df[missing_df > 0.10]\n",
        "missing_df = missing_df.to_frame()\n",
        "missing_df.columns = ['missing_ratio']\n",
        "missing_df['missing_ratio'] = missing_df['missing_ratio'].apply(lambda x: round(x, 2))\n",
        "missing_df['missing_ratio'] = missing_df['missing_ratio'].apply(lambda x: str(x * 100) + '%')\n",
        "missing_df"
      ],
      "metadata": {
        "colab": {
          "base_uri": "https://localhost:8080/",
          "height": 112
        },
        "id": "CnUaM9DI3j2v",
        "outputId": "e06ed85d-18f4-45eb-a936-a84311c16415"
      },
      "execution_count": 6,
      "outputs": [
        {
          "output_type": "execute_result",
          "data": {
            "text/plain": [
              "                 missing_ratio\n",
              "SECONDARY FACTOR         52.0%\n",
              "CITY                     10.0%"
            ],
            "text/html": [
              "\n",
              "  <div id=\"df-1adaa664-a799-4c6d-84bd-28840f750f4b\">\n",
              "    <div class=\"colab-df-container\">\n",
              "      <div>\n",
              "<style scoped>\n",
              "    .dataframe tbody tr th:only-of-type {\n",
              "        vertical-align: middle;\n",
              "    }\n",
              "\n",
              "    .dataframe tbody tr th {\n",
              "        vertical-align: top;\n",
              "    }\n",
              "\n",
              "    .dataframe thead th {\n",
              "        text-align: right;\n",
              "    }\n",
              "</style>\n",
              "<table border=\"1\" class=\"dataframe\">\n",
              "  <thead>\n",
              "    <tr style=\"text-align: right;\">\n",
              "      <th></th>\n",
              "      <th>missing_ratio</th>\n",
              "    </tr>\n",
              "  </thead>\n",
              "  <tbody>\n",
              "    <tr>\n",
              "      <th>SECONDARY FACTOR</th>\n",
              "      <td>52.0%</td>\n",
              "    </tr>\n",
              "    <tr>\n",
              "      <th>CITY</th>\n",
              "      <td>10.0%</td>\n",
              "    </tr>\n",
              "  </tbody>\n",
              "</table>\n",
              "</div>\n",
              "      <button class=\"colab-df-convert\" onclick=\"convertToInteractive('df-1adaa664-a799-4c6d-84bd-28840f750f4b')\"\n",
              "              title=\"Convert this dataframe to an interactive table.\"\n",
              "              style=\"display:none;\">\n",
              "        \n",
              "  <svg xmlns=\"http://www.w3.org/2000/svg\" height=\"24px\"viewBox=\"0 0 24 24\"\n",
              "       width=\"24px\">\n",
              "    <path d=\"M0 0h24v24H0V0z\" fill=\"none\"/>\n",
              "    <path d=\"M18.56 5.44l.94 2.06.94-2.06 2.06-.94-2.06-.94-.94-2.06-.94 2.06-2.06.94zm-11 1L8.5 8.5l.94-2.06 2.06-.94-2.06-.94L8.5 2.5l-.94 2.06-2.06.94zm10 10l.94 2.06.94-2.06 2.06-.94-2.06-.94-.94-2.06-.94 2.06-2.06.94z\"/><path d=\"M17.41 7.96l-1.37-1.37c-.4-.4-.92-.59-1.43-.59-.52 0-1.04.2-1.43.59L10.3 9.45l-7.72 7.72c-.78.78-.78 2.05 0 2.83L4 21.41c.39.39.9.59 1.41.59.51 0 1.02-.2 1.41-.59l7.78-7.78 2.81-2.81c.8-.78.8-2.07 0-2.86zM5.41 20L4 18.59l7.72-7.72 1.47 1.35L5.41 20z\"/>\n",
              "  </svg>\n",
              "      </button>\n",
              "      \n",
              "  <style>\n",
              "    .colab-df-container {\n",
              "      display:flex;\n",
              "      flex-wrap:wrap;\n",
              "      gap: 12px;\n",
              "    }\n",
              "\n",
              "    .colab-df-convert {\n",
              "      background-color: #E8F0FE;\n",
              "      border: none;\n",
              "      border-radius: 50%;\n",
              "      cursor: pointer;\n",
              "      display: none;\n",
              "      fill: #1967D2;\n",
              "      height: 32px;\n",
              "      padding: 0 0 0 0;\n",
              "      width: 32px;\n",
              "    }\n",
              "\n",
              "    .colab-df-convert:hover {\n",
              "      background-color: #E2EBFA;\n",
              "      box-shadow: 0px 1px 2px rgba(60, 64, 67, 0.3), 0px 1px 3px 1px rgba(60, 64, 67, 0.15);\n",
              "      fill: #174EA6;\n",
              "    }\n",
              "\n",
              "    [theme=dark] .colab-df-convert {\n",
              "      background-color: #3B4455;\n",
              "      fill: #D2E3FC;\n",
              "    }\n",
              "\n",
              "    [theme=dark] .colab-df-convert:hover {\n",
              "      background-color: #434B5C;\n",
              "      box-shadow: 0px 1px 3px 1px rgba(0, 0, 0, 0.15);\n",
              "      filter: drop-shadow(0px 1px 2px rgba(0, 0, 0, 0.3));\n",
              "      fill: #FFFFFF;\n",
              "    }\n",
              "  </style>\n",
              "\n",
              "      <script>\n",
              "        const buttonEl =\n",
              "          document.querySelector('#df-1adaa664-a799-4c6d-84bd-28840f750f4b button.colab-df-convert');\n",
              "        buttonEl.style.display =\n",
              "          google.colab.kernel.accessAllowed ? 'block' : 'none';\n",
              "\n",
              "        async function convertToInteractive(key) {\n",
              "          const element = document.querySelector('#df-1adaa664-a799-4c6d-84bd-28840f750f4b');\n",
              "          const dataTable =\n",
              "            await google.colab.kernel.invokeFunction('convertToInteractive',\n",
              "                                                     [key], {});\n",
              "          if (!dataTable) return;\n",
              "\n",
              "          const docLinkHtml = 'Like what you see? Visit the ' +\n",
              "            '<a target=\"_blank\" href=https://colab.research.google.com/notebooks/data_table.ipynb>data table notebook</a>'\n",
              "            + ' to learn more about interactive tables.';\n",
              "          element.innerHTML = '';\n",
              "          dataTable['output_type'] = 'display_data';\n",
              "          await google.colab.output.renderOutput(dataTable, element);\n",
              "          const docLink = document.createElement('div');\n",
              "          docLink.innerHTML = docLinkHtml;\n",
              "          element.appendChild(docLink);\n",
              "        }\n",
              "      </script>\n",
              "    </div>\n",
              "  </div>\n",
              "  "
            ]
          },
          "metadata": {},
          "execution_count": 6
        }
      ]
    },
    {
      "cell_type": "code",
      "source": [
        "# drop columns from dataset\n",
        "\n",
        "df = df.drop(['CITY', 'STATE', 'SECONDARY FACTOR'], axis=1)"
      ],
      "metadata": {
        "id": "fIYtaIwW4zhB"
      },
      "execution_count": 7,
      "outputs": []
    },
    {
      "cell_type": "markdown",
      "source": [
        "# Analysis\n",
        "* Number of Cars involved in each accident\n",
        "* Accident Date (Day of the Week & Hour)\n",
        "* The number of car accidents by weather condition\n",
        "* Car Accidents by Location\n",
        "* Correlation between between features\n",
        "* Note: Comments (starting with '#') in all CAPS denote the start of a new analysis"
      ],
      "metadata": {
        "id": "4D4xYuLe8CP3"
      }
    },
    {
      "cell_type": "code",
      "source": [
        "# NUMBER OF CARS INVOLVED IN EACH ACCIDENT\n",
        "\n",
        "df['TOTAL VEHICLES'].describe()"
      ],
      "metadata": {
        "colab": {
          "base_uri": "https://localhost:8080/"
        },
        "id": "2kaLAyQD8U-3",
        "outputId": "02158cf6-56d3-47a0-cfff-2f726250371f"
      },
      "execution_count": 8,
      "outputs": [
        {
          "output_type": "execute_result",
          "data": {
            "text/plain": [
              "count    20932.000000\n",
              "mean         2.005303\n",
              "std          0.461421\n",
              "min          1.000000\n",
              "25%          2.000000\n",
              "50%          2.000000\n",
              "75%          2.000000\n",
              "max          7.000000\n",
              "Name: TOTAL VEHICLES, dtype: float64"
            ]
          },
          "metadata": {},
          "execution_count": 8
        }
      ]
    },
    {
      "cell_type": "code",
      "source": [
        "plt.figure(figsize=(10, 6))\n",
        "sns.countplot(x='TOTAL VEHICLES', data=df, palette='Set2')\n",
        "plt.title('Number of Cars Involved in Crash')\n",
        "plt.xlabel('Number of Cars')\n",
        "plt.ylabel('Number of Accidents')\n",
        "plt.show()"
      ],
      "metadata": {
        "colab": {
          "base_uri": "https://localhost:8080/",
          "height": 404
        },
        "id": "iS8gE1k-uk7k",
        "outputId": "ee4e4494-3793-4b3b-ea92-0935faa25b64"
      },
      "execution_count": 9,
      "outputs": [
        {
          "output_type": "display_data",
          "data": {
            "text/plain": [
              "<Figure size 720x432 with 1 Axes>"
            ],
            "image/png": "[encoded data removed]"
          },
          "metadata": {
            "needs_background": "light"
          }
        }
      ]
    },
    {
      "cell_type": "markdown",
      "source": [
        "**Analysis**\n",
        "* Majority of car accidents only involved 2 cars\n",
        "* The most amount of cars involved in a car accident is 7 cars"
      ],
      "metadata": {
        "id": "FzEUK1pOmt8k"
      }
    },
    {
      "cell_type": "code",
      "source": [
        "# CRASH DATE\n",
        "\n",
        "# change crash date to datetime type column\n",
        "\n",
        "df['CRASH DATE'] = pd.to_datetime(df['CRASH DATE'])\n"
      ],
      "metadata": {
        "id": "jxnEo-YVwEuP"
      },
      "execution_count": 10,
      "outputs": []
    },
    {
      "cell_type": "code",
      "source": [
        "# create new columns based on year, month, day, day of week, year, and hour\n",
        "\n",
        "df['Month'] = df['CRASH DATE'].dt.month\n",
        "df['Day'] = df['CRASH DATE'].dt.day\n",
        "df['Year'] = df['CRASH DATE'].dt.year\n",
        "df['Hour'] = df['CRASH DATE'].dt.hour\n",
        "df['Day of Week'] = df['CRASH DATE'].dt.dayofweek"
      ],
      "metadata": {
        "id": "Dhl-4eKtyx5d"
      },
      "execution_count": 11,
      "outputs": []
    },
    {
      "cell_type": "code",
      "source": [
        "# number of car accidents by day of week\n",
        "\n",
        "df_day_of_week = df.groupby('Day of Week').count()\n",
        "\n",
        "plt.figure(figsize=(10, 6))\n",
        "plt.bar(df_day_of_week.index, df_day_of_week['CRASH DATE'])\n",
        "plt.title('Number of Crashes by Day of Week')\n",
        "plt.xlabel('Day of Week')\n",
        "plt.ylabel('Number of Crashes')\n",
        "plt.xticks(df_day_of_week.index, ['Monday', 'Tuesday', 'Wednesday', 'Thursday', 'Friday', 'Saturday', 'Sunday'])\n",
        "plt.show()\n"
      ],
      "metadata": {
        "colab": {
          "base_uri": "https://localhost:8080/",
          "height": 404
        },
        "id": "2WcVAn5F9C14",
        "outputId": "c876107c-8231-45b2-c3f0-fe794a63b910"
      },
      "execution_count": 12,
      "outputs": [
        {
          "output_type": "display_data",
          "data": {
            "text/plain": [
              "<Figure size 720x432 with 1 Axes>"
            ],
            "image/png": "[encoded data removed]"
          },
          "metadata": {
            "needs_background": "light"
          }
        }
      ]
    },
    {
      "cell_type": "code",
      "source": [
        "# car accidents by time of day\n",
        "\n",
        "df_time_of_day = df.groupby('Hour').count()\n",
        "\n",
        "plt.figure(figsize=(20, 6))\n",
        "plt.bar(df_time_of_day.index, df_time_of_day['CRASH DATE'])\n",
        "plt.title('Number of Crashes by Time of Day')\n",
        "plt.xlabel('Time of Day')\n",
        "plt.ylabel('Number of Crashes')\n",
        "plt.xticks(df_time_of_day.index, ['12 AM', '1 AM', '2 AM', '3 AM', '4 AM', '5 AM', '6 AM', '7 AM', '8 AM', '9 AM', '10 AM', '11 AM', '12 PM', '1 PM', '2 PM', '3 PM', '4 PM', '5 PM', '6 PM', '7 PM', '8 PM', '9 PM', '10 PM', '11 PM'])\n",
        "plt.show()"
      ],
      "metadata": {
        "colab": {
          "base_uri": "https://localhost:8080/",
          "height": 404
        },
        "id": "hrDzA-nw9ynJ",
        "outputId": "951b5b44-8b72-469d-e92e-3cec953262fd"
      },
      "execution_count": 13,
      "outputs": [
        {
          "output_type": "display_data",
          "data": {
            "text/plain": [
              "<Figure size 1440x432 with 1 Axes>"
            ],
            "image/png": "[encoded data removed]"
          },
          "metadata": {
            "needs_background": "light"
          }
        }
      ]
    },
    {
      "cell_type": "code",
      "source": [
        "# car accidents by month\n",
        "\n",
        "plt.figure(figsize=(10, 5))\n",
        "sns.countplot(x='Month', data=df, alpha=0.8)\n",
        "plt.title('Car Accidents by Month')\n",
        "plt.ylabel('Number of Occurrences', fontsize=12)\n",
        "plt.xlabel('Month', fontsize=12)\n",
        "plt.show()"
      ],
      "metadata": {
        "colab": {
          "base_uri": "https://localhost:8080/",
          "height": 353
        },
        "id": "UuK-GfhPnynW",
        "outputId": "43da5cb3-2b21-407b-d9fa-20b463722cdd"
      },
      "execution_count": 14,
      "outputs": [
        {
          "output_type": "display_data",
          "data": {
            "text/plain": [
              "<Figure size 720x360 with 1 Axes>"
            ],
            "image/png": "[encoded data removed]"
          },
          "metadata": {
            "needs_background": "light"
          }
        }
      ]
    },
    {
      "cell_type": "code",
      "source": [
        "df['Month'].value_counts()"
      ],
      "metadata": {
        "colab": {
          "base_uri": "https://localhost:8080/"
        },
        "id": "VHCu9cBRp3dH",
        "outputId": "fccee9e4-be45-47ad-e314-12508932b624"
      },
      "execution_count": 15,
      "outputs": [
        {
          "output_type": "execute_result",
          "data": {
            "text/plain": [
              "1     2315\n",
              "2     2280\n",
              "3     1938\n",
              "9     1737\n",
              "10    1716\n",
              "4     1696\n",
              "8     1664\n",
              "5     1609\n",
              "11    1519\n",
              "6     1516\n",
              "12    1475\n",
              "7     1467\n",
              "Name: Month, dtype: int64"
            ]
          },
          "metadata": {},
          "execution_count": 15
        }
      ]
    },
    {
      "cell_type": "code",
      "source": [
        "# car accidents by year\n",
        "\n",
        "plt.figure(figsize=(10, 5))\n",
        "sns.countplot(x='Year', data=df, alpha=0.8)\n",
        "plt.title('Car Accidents by Year')\n",
        "plt.ylabel('Number of Occurrences', fontsize=12)\n",
        "plt.xlabel('Year', fontsize=12)\n",
        "plt.show()"
      ],
      "metadata": {
        "colab": {
          "base_uri": "https://localhost:8080/",
          "height": 353
        },
        "id": "puaTcp6soHev",
        "outputId": "2feb76a3-2ddb-4486-a71f-798f827e6fae"
      },
      "execution_count": 16,
      "outputs": [
        {
          "output_type": "display_data",
          "data": {
            "text/plain": [
              "<Figure size 720x360 with 1 Axes>"
            ],
            "image/png": "[encoded data removed]"
          },
          "metadata": {
            "needs_background": "light"
          }
        }
      ]
    },
    {
      "cell_type": "code",
      "source": [
        "df['Year'].value_counts()"
      ],
      "metadata": {
        "colab": {
          "base_uri": "https://localhost:8080/"
        },
        "id": "y-ZU-_JEoix3",
        "outputId": "77ad49eb-5f38-414b-8284-c91657998030"
      },
      "execution_count": 17,
      "outputs": [
        {
          "output_type": "execute_result",
          "data": {
            "text/plain": [
              "2021    17217\n",
              "2022     3700\n",
              "2020       15\n",
              "Name: Year, dtype: int64"
            ]
          },
          "metadata": {},
          "execution_count": 17
        }
      ]
    },
    {
      "cell_type": "markdown",
      "source": [
        "**Car Accidents by Time Analysis**\n",
        "* Thursday and Friday represented the days of the week that recorded the most car accidents.\n",
        "* Friday is the day of the week with the most car accidents\n",
        "* Saturday and Sunday represented the days of the week that recorded the fewest amount of car accidents\n",
        "* Sunday is the day of the week with the fewest car accidents\n",
        "* The highest amount of car accidents were recorded between the hours of 3pm to 5pm\n",
        "* The fewest amount of car accidents were recorded between the hours of 3am to 5am \n",
        "* January and February recorded the most amount of car accidents\n",
        "* July and December recorded the fewest amount of car accidents\n",
        "* Majority of car accidents in this dataset occured in 2021"
      ],
      "metadata": {
        "id": "28QtSQuvpNcx"
      }
    },
    {
      "cell_type": "code",
      "source": [
        "# WEATHER\n",
        "\n",
        "# categorical encode weather conditions\n",
        "\n",
        "print(df['WEATHER'].unique())\n"
      ],
      "metadata": {
        "colab": {
          "base_uri": "https://localhost:8080/"
        },
        "id": "A3hxkdIc2Zw-",
        "outputId": "29a9a328-0e7e-48e8-8315-6f8a91352416"
      },
      "execution_count": 18,
      "outputs": [
        {
          "output_type": "stream",
          "name": "stdout",
          "text": [
            "[nan 'CLOUDY' 'CLEAR' 'RAIN' 'UNKNOWN' 'FOG / SMOKE' 'SLEET / HAIL' 'SNOW'\n",
            " 'OTHER' 'SEVERE CROSSWIND']\n"
          ]
        }
      ]
    },
    {
      "cell_type": "code",
      "source": [
        "# convert nan weather conditions to 'UNKOWN'\n",
        "\n",
        "df['WEATHER'] = df['WEATHER'].fillna('UNKNOWN')\n",
        "\n",
        "# encode weather conditions\n",
        "\n",
        "weather_condition_dict = {\n",
        "    'CLEAR': 0,\n",
        "    'CLOUDY': 1,\n",
        "    'RAIN': 2,\n",
        "    'FOG / SMOKE': 3,\n",
        "    'SLEET / HAIL': 4,\n",
        "    'SNOW': 5,\n",
        "    'SEVERE CROSSWIND': 6,\n",
        "    'OTHER': 7,\n",
        "    'UNKNOWN': 8\n",
        "}\n",
        "\n",
        "df['WEATHER ENCODED'] = df['WEATHER'].map(weather_condition_dict)"
      ],
      "metadata": {
        "id": "Ayg8Gijo3j1-"
      },
      "execution_count": 19,
      "outputs": []
    },
    {
      "cell_type": "code",
      "source": [
        "# create new dataframe for weather\n",
        "\n",
        "df_weather = df.groupby('WEATHER ENCODED').count()\n",
        "\n",
        "# compare the number of crashes by weather condition\n",
        "\n",
        "plt.figure(figsize=(20, 6))\n",
        "plt.bar(df_weather.index, df_weather['CRASH DATE'])\n",
        "plt.title('Number of Crashes by Weather Condition')\n",
        "plt.xlabel('Weather Condition')\n",
        "plt.ylabel('Number of Crashes')\n",
        "plt.xticks(df_weather.index, ['CLEAR', 'CLOUDY', 'RAIN', 'FOG / SMOKE', 'SLEET / HAIL', 'SNOW', 'SEVER CROSSWIND', 'OTHER', 'UNKNOWN'])\n",
        "plt.show()"
      ],
      "metadata": {
        "colab": {
          "base_uri": "https://localhost:8080/",
          "height": 404
        },
        "id": "GKRslHRXD6dA",
        "outputId": "4122d531-f98f-4e12-bebb-c2bcbf36a04e"
      },
      "execution_count": 20,
      "outputs": [
        {
          "output_type": "display_data",
          "data": {
            "text/plain": [
              "<Figure size 1440x432 with 1 Axes>"
            ],
            "image/png": "[encoded data removed]"
          },
          "metadata": {
            "needs_background": "light"
          }
        }
      ]
    },
    {
      "cell_type": "markdown",
      "source": [
        "**Weather Analysis**\n",
        "* Majority of car accidents occured when the weather was clear"
      ],
      "metadata": {
        "id": "P1nr11jSqS3C"
      }
    },
    {
      "cell_type": "code",
      "source": [
        "# LOCATION \n",
        "\n",
        "# plot car accidents by top 10 zip codes\n",
        "\n",
        "top_10_zip_codes = df['ZIP CODE'].value_counts().head(10)\n",
        "\n",
        "# plot top 10 zip codes with most car accidents\n",
        "\n",
        "plt.figure(figsize=(10, 5))\n",
        "sns.barplot(x=top_10_zip_codes.index, y=top_10_zip_codes.values, alpha=0.8)\n",
        "plt.title('Top 10 Zip Codes with Most Car Accidents')\n",
        "plt.ylabel('Number of Occurrences', fontsize=12)\n",
        "plt.xlabel('Zip Code', fontsize=12)\n",
        "plt.show()"
      ],
      "metadata": {
        "colab": {
          "base_uri": "https://localhost:8080/",
          "height": 353
        },
        "id": "zIs9LrUsjGXM",
        "outputId": "8cc9db1a-4e5d-4b87-f302-aa169df99bc8"
      },
      "execution_count": 21,
      "outputs": [
        {
          "output_type": "display_data",
          "data": {
            "text/plain": [
              "<Figure size 720x360 with 1 Axes>"
            ],
            "image/png": "[encoded data removed]"
          },
          "metadata": {
            "needs_background": "light"
          }
        }
      ]
    },
    {
      "cell_type": "code",
      "source": [
        "# normalize top 5 Zip Codes to compare against the total amount of car accidents\n",
        "\n",
        "top_5_zip_codes = df['ZIP CODE'].value_counts(normalize=True).head(5)\n",
        "print(top_5_zip_codes)"
      ],
      "metadata": {
        "colab": {
          "base_uri": "https://localhost:8080/"
        },
        "id": "hR48eOffkm42",
        "outputId": "7df1ead3-606f-4055-981d-75ba1ccd2bc8"
      },
      "execution_count": 22,
      "outputs": [
        {
          "output_type": "stream",
          "name": "stdout",
          "text": [
            "70808.0    0.164934\n",
            "70802.0    0.146240\n",
            "70806.0    0.125446\n",
            "70816.0    0.119670\n",
            "70805.0    0.114839\n",
            "Name: ZIP CODE, dtype: float64\n"
          ]
        }
      ]
    },
    {
      "cell_type": "code",
      "source": [
        "# plot car accidents by zone\n",
        "\n",
        "plt.figure(figsize=(10, 6))\n",
        "sns.countplot(x='ZONE', data=df, palette='Set2')\n",
        "plt.title('Number of Cars Involved in Crash by Zone')\n",
        "plt.xlabel('ZONE')\n",
        "plt.ylabel('Number of Accidents')\n",
        "plt.show()"
      ],
      "metadata": {
        "colab": {
          "base_uri": "https://localhost:8080/",
          "height": 404
        },
        "id": "B6U_3N8vjT2K",
        "outputId": "3d41c2f2-22a1-4fe2-f16a-58de71c3d93f"
      },
      "execution_count": 23,
      "outputs": [
        {
          "output_type": "display_data",
          "data": {
            "text/plain": [
              "<Figure size 720x432 with 1 Axes>"
            ],
            "image/png": "[encoded data removed]"
          },
          "metadata": {
            "needs_background": "light"
          }
        }
      ]
    },
    {
      "cell_type": "code",
      "source": [
        "# normalize top 5 Sub Zones to compare against the total amount of car accidents\n",
        "\n",
        "top_5_zones = df['ZONE'].value_counts(normalize=True).head(5)\n",
        "print(top_5_zones)"
      ],
      "metadata": {
        "colab": {
          "base_uri": "https://localhost:8080/"
        },
        "id": "OFMQzgsTzu0F",
        "outputId": "23cae532-32d1-49b7-97d9-58e4f0932b03"
      },
      "execution_count": 24,
      "outputs": [
        {
          "output_type": "stream",
          "name": "stdout",
          "text": [
            "2B    0.114645\n",
            "3G    0.074682\n",
            "3F    0.070069\n",
            "2C    0.069972\n",
            "3E    0.058172\n",
            "Name: ZONE, dtype: float64\n"
          ]
        }
      ]
    },
    {
      "cell_type": "code",
      "source": [
        "# plot car accidents by top 10 sub zones\n",
        "\n",
        "top_10_sub_zones = df['SUBZONE'].value_counts().head(10)\n",
        "\n",
        "# plot top 10 zip codes with most car accidents\n",
        "\n",
        "plt.figure(figsize=(10, 5))\n",
        "sns.barplot(x=top_10_sub_zones.index, y=top_10_sub_zones.values, alpha=0.8)\n",
        "plt.title('Top 10 Sub Zones with Most Car Accidents')\n",
        "plt.ylabel('Number of Occurrences', fontsize=12)\n",
        "plt.xlabel('Sub Zone', fontsize=12)\n",
        "plt.show()"
      ],
      "metadata": {
        "colab": {
          "base_uri": "https://localhost:8080/",
          "height": 353
        },
        "id": "83Z4QFLlrKTz",
        "outputId": "c6332716-eb1c-478c-d240-35edd93cbf43"
      },
      "execution_count": 25,
      "outputs": [
        {
          "output_type": "display_data",
          "data": {
            "text/plain": [
              "<Figure size 720x360 with 1 Axes>"
            ],
            "image/png": "[encoded data removed]"
          },
          "metadata": {
            "needs_background": "light"
          }
        }
      ]
    },
    {
      "cell_type": "code",
      "source": [
        "# normalize top 5 Sub Zones to compare against the total amount of car accidents\n",
        "\n",
        "top_5_subzones = df['SUBZONE'].value_counts(normalize=True).head(5)\n",
        "print(top_5_subzones)"
      ],
      "metadata": {
        "colab": {
          "base_uri": "https://localhost:8080/"
        },
        "id": "Qq8fV_0Dywf-",
        "outputId": "4b9db14a-d4f4-45ef-c471-9856a51f4eda"
      },
      "execution_count": 26,
      "outputs": [
        {
          "output_type": "stream",
          "name": "stdout",
          "text": [
            "2B3    0.055045\n",
            "2B1    0.049938\n",
            "2C3    0.040858\n",
            "2B2    0.036783\n",
            "3G3    0.035854\n",
            "Name: SUBZONE, dtype: float64\n"
          ]
        }
      ]
    },
    {
      "cell_type": "markdown",
      "source": [
        "**Location Analysis**\n",
        "* Top 5 Zip Codes with the most amout of car accidents (normalized, % of total car accidents): \n",
        "1. 70808 (16.4%)\n",
        "2. 70802 (14.6%)\n",
        "3. 70806 (12.5%)\n",
        "4. 70816 (11.9%)\n",
        "5. 70805 (11.4%)\n",
        "* Top 5 Zones with the most amount of car accidents (normalized, % of total car accidents):\n",
        "1. 2B (11.4%)\n",
        "2. 3G (7.4%)\n",
        "3. 3F (7%)\n",
        "4. 2C (6.99%)\n",
        "5. 3E (5.8%)\n",
        "* Top 5 Sub Zones with the most amount of car accidents (normalized, % of total car accidents):\n",
        "1. 2B3 (5.5%)\n",
        "2. 2B1 (4.99%)\n",
        "3. 2C3 (4%)\n",
        "4. 2B2 (3.67%)\n",
        "5. 3G3 (3.5%)\n",
        "\n"
      ],
      "metadata": {
        "id": "Z3dFCKkACfvd"
      }
    },
    {
      "cell_type": "code",
      "source": [
        "# CORRELATION HEATMAP BETWEEN FEATURES\n",
        "\n",
        "corr = df.corr()\n",
        "plt.figure(figsize=(15,15))\n",
        "sns.heatmap(corr, cmap='coolwarm', annot=True)\n"
      ],
      "metadata": {
        "id": "gk0ajE3EtbJY",
        "colab": {
          "base_uri": "https://localhost:8080/",
          "height": 976
        },
        "outputId": "51e9326d-f760-4200-e2b1-d06b799f09f9"
      },
      "execution_count": 27,
      "outputs": [
        {
          "output_type": "execute_result",
          "data": {
            "text/plain": [
              "<AxesSubplot:>"
            ]
          },
          "metadata": {},
          "execution_count": 27
        },
        {
          "output_type": "display_data",
          "data": {
            "text/plain": [
              "<Figure size 1080x1080 with 2 Axes>"
            ],
            "image/png": "[encoded data removed]"
          },
          "metadata": {
            "needs_background": "light"
          }
        }
      ]
    },
    {
      "cell_type": "markdown",
      "source": [
        "**Correlation Coeffecient Guideline**\n",
        "* Weak Correlation: 0.01 - 0.19\n",
        "* Low Correlation: 0.2 - 0.39\n",
        "* Moderate Correlation: 0.4 - 0.59\n",
        "* Strong Correlation: 0.6 - 0.79\n",
        "* Very Strong Correlation 0.8 - 0.99\n",
        "\n",
        "**Correlation Analysis Summary**\n",
        "* Strong and Moderate correlations DO NOT EXIST between features"
      ],
      "metadata": {
        "id": "7fs8kIfhha1S"
      }
    },
    {
      "cell_type": "markdown",
      "source": [
        "# Preprocessing\n",
        "* One Hot Encode Boolean data types\n",
        "* Label Encode Categorical Data"
      ],
      "metadata": {
        "id": "51Apu1ttdcr3"
      }
    },
    {
      "cell_type": "code",
      "source": [
        "# encode bools\n",
        "\n",
        "df = pd.get_dummies(df, columns=['HIT AND RUN', 'TRAIN', 'FATALITY', 'INJURY', 'PEDESTRIAN', 'INTERSECTION'])\n"
      ],
      "metadata": {
        "id": "YZr1xa6sKB3K"
      },
      "execution_count": 28,
      "outputs": []
    },
    {
      "cell_type": "code",
      "source": [
        "from sklearn.preprocessing import LabelEncoder\n",
        "\n",
        "# categorical encode\n",
        "\n",
        "cat_columns = ['ZIP CODE', 'DISTRICT', 'ZONE', 'SUBZONE', 'ROAD CLASS', 'MANNER OF COLLISION',\n",
        "               'ROADWAY SURFACE', 'ROADWAY CONDITION', 'ROADWAY DESIGN', 'ALIGNMENT',\n",
        "               'PRIMARY FACTOR', 'LOCATION TYPE', 'ROADWAY RELATION', 'ACCESS CONTROL',\n",
        "               'LIGHTING', 'WEATHER']\n",
        "\n",
        "# create label encoder\n",
        "\n",
        "le = LabelEncoder()\n",
        "\n",
        "# encode categorical columns\n",
        "\n",
        "for column in cat_columns:\n",
        "    df[column] = le.fit_transform(df[column])"
      ],
      "metadata": {
        "id": "VM9nkmwZ0bdR"
      },
      "execution_count": 29,
      "outputs": []
    },
    {
      "cell_type": "code",
      "source": [
        "# drop columns with high cardinality\n",
        "\n",
        "df = df.drop(['INCIDENT NUMBER', 'STREET ADDRESS', 'NEAREST STREET', 'LONGITUDE',\n",
        "              'LATITUDE', 'GEOLOCATION', 'WEATHER ENCODED'], axis=1)"
      ],
      "metadata": {
        "id": "WjM5UUOB2t_V"
      },
      "execution_count": 30,
      "outputs": []
    },
    {
      "cell_type": "code",
      "source": [
        "# drop datetime related columns, except CRASH DATE\n",
        "\n",
        "df = df.drop(['Month', 'Day', 'Year', 'Hour', 'Day of Week'], axis=1)"
      ],
      "metadata": {
        "id": "9-Q49JVv3QJn"
      },
      "execution_count": 31,
      "outputs": []
    },
    {
      "cell_type": "code",
      "source": [
        "df.dtypes"
      ],
      "metadata": {
        "colab": {
          "base_uri": "https://localhost:8080/"
        },
        "id": "KTua-xRY2ML6",
        "outputId": "f65db370-08b4-4120-bbb5-133de0024433"
      },
      "execution_count": 32,
      "outputs": [
        {
          "output_type": "execute_result",
          "data": {
            "text/plain": [
              "CRASH DATE             datetime64[ns]\n",
              "ZIP CODE                        int64\n",
              "DISTRICT                        int64\n",
              "ZONE                            int64\n",
              "SUBZONE                         int64\n",
              "TOTAL VEHICLES                  int64\n",
              "ROAD CLASS                      int64\n",
              "MANNER OF COLLISION             int64\n",
              "ROADWAY SURFACE                 int64\n",
              "ROADWAY CONDITION               int64\n",
              "ROADWAY DESIGN                  int64\n",
              "ALIGNMENT                       int64\n",
              "PRIMARY FACTOR                  int64\n",
              "WEATHER                         int64\n",
              "LOCATION TYPE                   int64\n",
              "ROADWAY RELATION                int64\n",
              "ACCESS CONTROL                  int64\n",
              "LIGHTING                        int64\n",
              "HIT AND RUN_False               uint8\n",
              "HIT AND RUN_True                uint8\n",
              "TRAIN_False                     uint8\n",
              "TRAIN_True                      uint8\n",
              "FATALITY_False                  uint8\n",
              "FATALITY_True                   uint8\n",
              "INJURY_False                    uint8\n",
              "INJURY_True                     uint8\n",
              "PEDESTRIAN_False                uint8\n",
              "PEDESTRIAN_True                 uint8\n",
              "INTERSECTION_False              uint8\n",
              "INTERSECTION_True               uint8\n",
              "dtype: object"
            ]
          },
          "metadata": {},
          "execution_count": 32
        }
      ]
    },
    {
      "cell_type": "markdown",
      "source": [
        "**Models**\n",
        "* Random Forest Classifier\n",
        "* XGBOOST"
      ],
      "metadata": {
        "id": "Zr3iwjmrKZUW"
      }
    },
    {
      "cell_type": "code",
      "source": [
        "from sklearn.model_selection import train_test_split\n",
        "from sklearn.ensemble import RandomForestClassifier\n",
        "from sklearn.metrics import accuracy_score\n",
        "import xgboost as xgb"
      ],
      "metadata": {
        "id": "rafG2q0AM1Ry",
        "colab": {
          "base_uri": "https://localhost:8080/"
        },
        "outputId": "a6349415-74c4-498f-d010-ee02d44566ce"
      },
      "execution_count": 33,
      "outputs": [
        {
          "output_type": "stream",
          "name": "stdout",
          "text": [
            "Looking in indexes: https://pypi.org/simple, https://us-python.pkg.dev/colab-wheels/public/simple/\n",
            "Requirement already satisfied: eli5 in /usr/local/lib/python3.8/dist-packages (0.13.0)\n",
            "Requirement already satisfied: attrs>17.1.0 in /usr/local/lib/python3.8/dist-packages (from eli5) (22.2.0)\n",
            "Requirement already satisfied: six in /usr/local/lib/python3.8/dist-packages (from eli5) (1.15.0)\n",
            "Requirement already satisfied: numpy>=1.9.0 in /usr/local/lib/python3.8/dist-packages (from eli5) (1.22.4)\n",
            "Requirement already satisfied: scikit-learn>=0.20 in /usr/local/lib/python3.8/dist-packages (from eli5) (1.0.2)\n",
            "Requirement already satisfied: scipy in /usr/local/lib/python3.8/dist-packages (from eli5) (1.7.3)\n",
            "Requirement already satisfied: tabulate>=0.7.7 in /usr/local/lib/python3.8/dist-packages (from eli5) (0.8.10)\n",
            "Requirement already satisfied: jinja2>=3.0.0 in /usr/local/lib/python3.8/dist-packages (from eli5) (3.1.2)\n",
            "Requirement already satisfied: graphviz in /usr/local/lib/python3.8/dist-packages (from eli5) (0.10.1)\n",
            "Requirement already satisfied: MarkupSafe>=2.0 in /usr/local/lib/python3.8/dist-packages (from jinja2>=3.0.0->eli5) (2.0.1)\n",
            "Requirement already satisfied: threadpoolctl>=2.0.0 in /usr/local/lib/python3.8/dist-packages (from scikit-learn>=0.20->eli5) (3.1.0)\n",
            "Requirement already satisfied: joblib>=0.11 in /usr/local/lib/python3.8/dist-packages (from scikit-learn>=0.20->eli5) (1.2.0)\n"
          ]
        }
      ]
    },
    {
      "cell_type": "code",
      "source": [
        "# split data into train and test sets\n",
        "\n",
        "X = df.drop(['CRASH DATE'], axis=1)\n",
        "y = df['CRASH DATE']\n",
        "X_train, X_test, y_train, y_test = train_test_split(X, y, test_size=0.2, random_state=42)"
      ],
      "metadata": {
        "id": "pmjmEkoCQSlG"
      },
      "execution_count": 34,
      "outputs": []
    },
    {
      "cell_type": "code",
      "source": [
        "# fit model with random forest classifier\n",
        "\n",
        "rf = RandomForestClassifier(n_estimators=10, random_state=42)\n",
        "\n",
        "# fit model\n",
        "\n",
        "rf.fit(X_train, y_train)\n",
        "\n",
        "# predict on test set\n",
        "\n",
        "y_pred = rf.predict(X_test)\n",
        "\n",
        "# get accuracy score\n",
        "\n",
        "accuracy = accuracy_score(y_test, y_pred)\n",
        "\n",
        "print('Accuracy: {}'.format(accuracy))\n"
      ],
      "metadata": {
        "id": "8b3jMpazKuEL",
        "colab": {
          "base_uri": "https://localhost:8080/"
        },
        "outputId": "ef2fa6cc-0c81-49a2-fcac-cfdc78b08553"
      },
      "execution_count": 35,
      "outputs": [
        {
          "output_type": "stream",
          "name": "stdout",
          "text": [
            "Accuracy: 0.004060186290900406\n"
          ]
        }
      ]
    },
    {
      "cell_type": "code",
      "source": [
        "# fit model with xgboost (Runtime Error)\n",
        "\n",
        "import xgboost as xgb\n",
        "\n",
        "# train model\n",
        "\n",
        "xgb_model = xgb.XGBClassifier(objective=\"binary:logistic\", random_state=42)\n",
        "\n",
        "# fit model\n",
        "\n",
        "xgb_model.fit(X_train, y_train)\n",
        "\n",
        "# predict on test set\n",
        "\n",
        "y_pred = xgb_model.predict(X_test)\n",
        "\n",
        "# get accuracy score\n",
        "\n",
        "accuracy = accuracy_score(y_test, y_pred)\n",
        "\n",
        "print('Accuracy: {}'.format(accuracy))"
      ],
      "metadata": {
        "id": "GQcHMk0kAAPR"
      },
      "execution_count": null,
      "outputs": []
    },
    {
      "cell_type": "markdown",
      "source": [
        "# Conclusion\n",
        "\n",
        "* Based on the insight gathered, ZONE 2B (& SUBZONE 2B3) in January and February, on a Friday, between the hours of 3pm and 5pm will yield the highest probability of a car accident in Baton Rouge, LA. \n",
        "* It is advised to avoid ZONE 2B on a Friday in Baton Rouge, LA in January and February during the hours of 3pm and 5pm to avoid a car accident"
      ],
      "metadata": {
        "id": "kflw97WHIZ6c"
      }
    },
    {
      "cell_type": "code",
      "source": [],
      "metadata": {
        "id": "Uq_ZliObJz6v"
      },
      "execution_count": null,
      "outputs": []
    }
  ]
}